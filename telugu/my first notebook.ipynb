{
 "cells": [
  {
   "cell_type": "code",
   "execution_count": 3,
   "metadata": {},
   "outputs": [
    {
     "name": "stdout",
     "output_type": "stream",
     "text": [
      "hello, bagunnara?\n"
     ]
    }
   ],
   "source": [
    "print(\"hello, bagunnara?\")"
   ]
  },
  {
   "cell_type": "markdown",
   "metadata": {},
   "source": [
    "Let's create a student in Python"
   ]
  },
  {
   "cell_type": "code",
   "execution_count": 4,
   "metadata": {},
   "outputs": [
    {
     "name": "stdout",
     "output_type": "stream",
     "text": [
      "Subba Rao 21 3.75 True\n"
     ]
    }
   ],
   "source": [
    "name = \"Subba Rao\"\n",
    "age = 21\n",
    "GPA = 3.75\n",
    "plays_kabaddi = True\n",
    "\n",
    "print(name, age, GPA, plays_kabaddi)"
   ]
  },
  {
   "cell_type": "code",
   "execution_count": 5,
   "metadata": {},
   "outputs": [
    {
     "name": "stdout",
     "output_type": "stream",
     "text": [
      "Subba Rao's new GPA is 3.85\n"
     ]
    }
   ],
   "source": [
    "GPA = GPA + 0.10\n",
    "\n",
    "print(f\"{name}'s new GPA is {GPA}\")"
   ]
  },
  {
   "cell_type": "code",
   "execution_count": 6,
   "metadata": {},
   "outputs": [
    {
     "name": "stdout",
     "output_type": "stream",
     "text": [
      "Subba Rao's age after 15 years will be 36\n"
     ]
    }
   ],
   "source": [
    "age = age + 15\n",
    "\n",
    "print(f\"{name}'s age after 15 years will be {age}\")"
   ]
  },
  {
   "cell_type": "markdown",
   "metadata": {},
   "source": [
    "### Let's understand lists in python"
   ]
  },
  {
   "cell_type": "code",
   "execution_count": 7,
   "metadata": {},
   "outputs": [
    {
     "name": "stdout",
     "output_type": "stream",
     "text": [
      "sports played by Subba Rao: ['kabaddi', 'cricket', 'volley ball', 'basket ball']\n"
     ]
    }
   ],
   "source": [
    "sports = [\"kabaddi\", \"cricket\", \"volley ball\", \"basket ball\"]\n",
    "\n",
    "print(f\"sports played by {name}: {sports}\")"
   ]
  },
  {
   "cell_type": "code",
   "execution_count": 8,
   "metadata": {},
   "outputs": [
    {
     "name": "stdout",
     "output_type": "stream",
     "text": [
      "sports played by Subba Rao: ['kabaddi', 'cricket', 'volley ball', 'basket ball', 'rugby']\n"
     ]
    }
   ],
   "source": [
    "sports.append(\"rugby\")\n",
    "print(f\"sports played by {name}: {sports}\")"
   ]
  },
  {
   "cell_type": "code",
   "execution_count": 9,
   "metadata": {},
   "outputs": [
    {
     "data": {
      "text/plain": [
       "'kabaddi'"
      ]
     },
     "execution_count": 9,
     "metadata": {},
     "output_type": "execute_result"
    }
   ],
   "source": [
    "sports[0]"
   ]
  },
  {
   "cell_type": "code",
   "execution_count": 10,
   "metadata": {},
   "outputs": [
    {
     "data": {
      "text/plain": [
       "['kabaddi', 'cricket', 'volley ball']"
      ]
     },
     "execution_count": 10,
     "metadata": {},
     "output_type": "execute_result"
    }
   ],
   "source": [
    "sports[0:3]"
   ]
  },
  {
   "cell_type": "code",
   "execution_count": 11,
   "metadata": {},
   "outputs": [
    {
     "data": {
      "text/plain": [
       "'rugby'"
      ]
     },
     "execution_count": 11,
     "metadata": {},
     "output_type": "execute_result"
    }
   ],
   "source": [
    "sports[-1]"
   ]
  },
  {
   "cell_type": "code",
   "execution_count": 12,
   "metadata": {},
   "outputs": [
    {
     "data": {
      "text/plain": [
       "['volley ball', 'basket ball', 'rugby']"
      ]
     },
     "execution_count": 12,
     "metadata": {},
     "output_type": "execute_result"
    }
   ],
   "source": [
    "sports[-3:]"
   ]
  },
  {
   "cell_type": "markdown",
   "metadata": {},
   "source": [
    "### Calculating Letter Grade\n",
    "\n",
    "- 2 or under D\n",
    "- 3 or under C\n",
    "- 3.6 or under B\n",
    "- anything above 3.6 A"
   ]
  },
  {
   "cell_type": "code",
   "execution_count": 13,
   "metadata": {},
   "outputs": [
    {
     "name": "stdout",
     "output_type": "stream",
     "text": [
      "Subba Rao's letter grade is C\n"
     ]
    }
   ],
   "source": [
    "student_GPA = float(input(\"What is your GPA? \"))\n",
    "\n",
    "if student_GPA <=2:\n",
    "    letter_grade = \"D\"\n",
    "elif student_GPA <=3:\n",
    "    letter_grade = \"C\"\n",
    "elif student_GPA <=3.6:\n",
    "    letter_grade = \"B\"\n",
    "else:\n",
    "    letter_grade = \"A\"\n",
    "\n",
    "print(f\"{name}'s letter grade is {letter_grade}\")"
   ]
  },
  {
   "cell_type": "markdown",
   "metadata": {},
   "source": [
    "### 🔄Using Loops in Python"
   ]
  },
  {
   "cell_type": "code",
   "execution_count": 14,
   "metadata": {},
   "outputs": [
    {
     "name": "stdout",
     "output_type": "stream",
     "text": [
      "['kabaddi', 'cricket', 'volley ball', 'basket ball', 'rugby']\n"
     ]
    }
   ],
   "source": [
    "print(sports)"
   ]
  },
  {
   "cell_type": "code",
   "execution_count": 15,
   "metadata": {},
   "outputs": [
    {
     "name": "stdout",
     "output_type": "stream",
     "text": [
      "kabaddi\n",
      "cricket\n",
      "volley ball\n"
     ]
    }
   ],
   "source": [
    "print(sports[0])\n",
    "print(sports[1])\n",
    "print(sports[2])"
   ]
  },
  {
   "cell_type": "code",
   "execution_count": 27,
   "metadata": {},
   "outputs": [
    {
     "name": "stdout",
     "output_type": "stream",
     "text": [
      "1. Kabaddi\n",
      "2. Cricket\n",
      "3. Volley Ball\n",
      "4. Basket Ball\n",
      "5. Rugby\n",
      "WE ARE DONE.\n"
     ]
    }
   ],
   "source": [
    "sport_num = 1\n",
    "\n",
    "for X in sports:\n",
    "    print(f\"{sport_num}. {X.title()}\")\n",
    "    sport_num = sport_num + 1\n",
    "print(\"WE ARE DONE.\")\n"
   ]
  },
  {
   "cell_type": "markdown",
   "metadata": {},
   "source": [
    "### List Comprehension in Python 📃\n",
    "Make a new list with just the first 3 letters of each sport"
   ]
  },
  {
   "cell_type": "code",
   "execution_count": 31,
   "metadata": {},
   "outputs": [
    {
     "name": "stdout",
     "output_type": "stream",
     "text": [
      "['kab', 'cri', 'vol', 'bas', 'rug']\n"
     ]
    }
   ],
   "source": [
    "sports_first3 = []\n",
    "\n",
    "for s in sports:\n",
    "    sports_first3.append(s[:3])\n",
    "\n",
    "print(sports_first3)"
   ]
  },
  {
   "cell_type": "code",
   "execution_count": 33,
   "metadata": {},
   "outputs": [
    {
     "data": {
      "text/plain": [
       "['kab', 'cri', 'vol', 'bas', 'rug']"
      ]
     },
     "execution_count": 33,
     "metadata": {},
     "output_type": "execute_result"
    }
   ],
   "source": [
    "# let's use list comprehension to make the new sports list\n",
    "sports_first3_v2 = [s[:3] for s in sports]\n",
    "\n",
    "sports_first3_v2"
   ]
  },
  {
   "cell_type": "markdown",
   "metadata": {},
   "source": [
    "### 👩‍💻 Homework: Make a list with first & last letter of each sport. So kabaddi would be ki, cricket would be ct"
   ]
  },
  {
   "cell_type": "code",
   "execution_count": 35,
   "metadata": {},
   "outputs": [
    {
     "data": {
      "text/plain": [
       "['ki', 'ct', 'vl', 'bl', 'ry']"
      ]
     },
     "execution_count": 35,
     "metadata": {},
     "output_type": "execute_result"
    }
   ],
   "source": [
    "# homework solution:\n",
    "\n",
    "sports_hw = [s[0]+s[-1] for s in sports]\n",
    "\n",
    "sports_hw"
   ]
  }
 ],
 "metadata": {
  "kernelspec": {
   "display_name": ".venv",
   "language": "python",
   "name": "python3"
  },
  "language_info": {
   "codemirror_mode": {
    "name": "ipython",
    "version": 3
   },
   "file_extension": ".py",
   "mimetype": "text/x-python",
   "name": "python",
   "nbconvert_exporter": "python",
   "pygments_lexer": "ipython3",
   "version": "3.13.0"
  }
 },
 "nbformat": 4,
 "nbformat_minor": 2
}
